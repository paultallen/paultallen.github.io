{
 "cells": [
  {
   "cell_type": "markdown",
   "metadata": {},
   "source": [
    "# Your first notebook\n",
    "This document introduces you to the the basics of using a notebook with Sage. This type of notebook is called a \"Jupyter Notebook\".\n",
    "It is possible to use Jupyter notebooks with other coding languages, such as Python or R. "
   ]
  },
  {
   "cell_type": "markdown",
   "metadata": {},
   "source": [
    "# Starting a new Sage notebook\n",
    "\n",
    "From the \"New\" menu select \"SageMath\". This will create a new notebook where the code is understood to be Sage code. \n",
    "Give the notebook a useful name.\n",
    "Save the notebook right away, and save frequently while you're working!"
   ]
  },
  {
   "cell_type": "markdown",
   "metadata": {},
   "source": [
    "# Basic notebook moves\n",
    "\n",
    "Notebooks are made up of \"cells\". \n",
    "* You type stuff in to the cell and then type `command`+`return` to \"run\" the cell. (You can also click the \"run\" button above.)\n",
    "* Double-click on a cell to edit it (or to see the code that creates it).\n",
    "\n",
    "There are two types of cells:\n",
    "* \"Markdown\" cells contain text\n",
    "* \"Code\" cells contain code\n",
    "\n",
    "You can determine the type of cell using the drop down menu, or using keyboard shortcuts:\n",
    "* `esc` + `m` changes the cell to markdown\n",
    "* `esc` + `y` changes the cell to code\n",
    "\n",
    "You can insert a new cell above/below from the \"Insert\" menu or using keyboard shortcuts:\n",
    "* `esc`+`a` inserts a new cell above\n",
    "* `esc`+`b` inserts a new cell below\n",
    "\n",
    "More keyboard shortcuts can be found in the \"Help\" menu."
   ]
  },
  {
   "cell_type": "markdown",
   "metadata": {},
   "source": [
    "# Text\n",
    "\n",
    "We put text in markdown cells. For the most part, you don't need to worry about formatting the text.     For example, you don't need to worry about how many spaces there are after sentences,\n",
    "or even if you break a line in the middle of a sentence.\n",
    "(Look at the code for this cell to see what I mean!)\n",
    "I often start each sentence on a new line, as it helps me organize my thoughts. \n",
    "But that's just my personal style.\n",
    "\n",
    "You can start a new paragraph by leaving a blank line in your text. You can _emphasize text_ or **bold it** or ~~cross out the text altogether~~. You can add a link to text, sending people to the [Lewis & Clark Webpage](https://www.lclark.edu).\n",
    "\n",
    "Other things you can do include:\n",
    "1. Making ordered lists.\n",
    "2. Making unordered lists (with bullets).\n",
    "3. Creating headers of various levels of importance.\n",
    "\n",
    "For more commands, you might search online for [Markdown Cheatsheet](https://duckduckgo.com/?q=markdown+cheatsheet&ia=answer&iax=1)."
   ]
  },
  {
   "cell_type": "markdown",
   "metadata": {},
   "source": [
    "# Code\n",
    "\n",
    "You will learn more about specific Sage code commands in other tutorial documents. For now, here are some very basic ideas about how code cells work.\n",
    "\n",
    "First, the code that you input often does something that yields an output. For example, you can use a code cell to add $1+2$."
   ]
  },
  {
   "cell_type": "code",
   "execution_count": 8,
   "metadata": {},
   "outputs": [
    {
     "data": {
      "text/plain": [
       "3"
      ]
     },
     "execution_count": 8,
     "metadata": {},
     "output_type": "execute_result"
    }
   ],
   "source": [
    "1+2"
   ]
  },
  {
   "cell_type": "markdown",
   "metadata": {},
   "source": [
    "If you don't want to see the output, you can put a semicolon after the command. Obviously, this is not so useful when adding $1+2$, but does turn out to be useful in other situations.\n",
    "\n",
    "(There are also more complicated ways to suppress output, but we won't discuss those here.)"
   ]
  },
  {
   "cell_type": "code",
   "execution_count": 9,
   "metadata": {},
   "outputs": [],
   "source": [
    "1+2;"
   ]
  },
  {
   "cell_type": "markdown",
   "metadata": {},
   "source": [
    "It is also important to know that the code cells all communicate with each other. For example, suppose you set the variable $a$ equal to $4$ in some cell. If you then reference the variable $a$ later, it will be equal to $4$ (unless you have subsequently changed it!).\n",
    "For this reason, it is often useful to use the \"Run All\" command from the \"Cell\" menu.\n",
    "\n",
    "The next couple cells illustrate this feature."
   ]
  },
  {
   "cell_type": "code",
   "execution_count": 10,
   "metadata": {},
   "outputs": [],
   "source": [
    "a=4"
   ]
  },
  {
   "cell_type": "code",
   "execution_count": 11,
   "metadata": {},
   "outputs": [
    {
     "data": {
      "text/plain": [
       "7"
      ]
     },
     "execution_count": 11,
     "metadata": {},
     "output_type": "execute_result"
    }
   ],
   "source": [
    "3+a"
   ]
  },
  {
   "cell_type": "markdown",
   "metadata": {},
   "source": [
    "# Text with math symbols\n",
    "\n",
    "We use \"LaTeX\" syntax to put math symbols in our markdown text. You should be aware that the LaTeX commands used here are a small portion of the full LaTeX framework.\n",
    "\n",
    "LaTeX math symbols come in two flavors:\n",
    "* **Inline** math comes in the middle of a line/paragraph of text. Inline math begins with a single dollar sign `$` and ends with a single dollar sign `$`.\n",
    "* **Displayed** math has its own line and is usually centered. There are many options for how to begin/end displayed math. One way is to begin with a double dollar sign `$$` and end with a double dollar sign `$$`. \n",
    "\n",
    "Important: Both inline and displayed math must be part of a complete sentence."
   ]
  },
  {
   "cell_type": "markdown",
   "metadata": {},
   "source": [
    "### Example: basic growth model\n",
    "\n",
    "Let $P$ represent the population of fish in Lake Clark at time $t$.\n",
    "Suppose that the relative rate of change of the population is the constant value $r$.\n",
    "Then we have\n",
    "$$\n",
    "\\frac{dP}{dt} = r P.\n",
    "$$\n",
    "In other words, $P$ is described by the basic growth model."
   ]
  },
  {
   "cell_type": "markdown",
   "metadata": {},
   "source": [
    "### Comments on \"Example:  basic growth model\"\n",
    "\n",
    "* Note that all math, whether inline or displayed, is part of a sentence.\n",
    "* Note that we created the fraction with the command `\\frac{}{}`."
   ]
  },
  {
   "cell_type": "markdown",
   "metadata": {},
   "source": [
    "### Example: logistic growth model\n",
    "\n",
    "Let's now upgrade our model for the population $P$ of fish in Lake Clark.\n",
    "We suppose that lake can sustainably carry a population of $K$ fish.\n",
    "Thus the fraction of sustainable habitat that is available is given by the quantity\n",
    "$$\n",
    "1-\\frac{P}{K}.\n",
    "$$\n",
    "Let us assume that the relative growth rate is proportional, with proportionality constant $r$, to the available habitat.\n",
    "The resulting model for $P$ is\n",
    "$$\n",
    "\\frac{dP}{dt} = r P \\left(1-\\frac{P}{K} \\right).\n",
    "$$\n",
    "Thus $P$ is described by the logistic growth model."
   ]
  },
  {
   "cell_type": "markdown",
   "metadata": {},
   "source": [
    "### Comments on \"Example: logistic growth model\"\n",
    "\n",
    "Note that we use the commands `\\left(` and `\\right)` to create parentheses that automatically adjust for the size of the stuff between.\n",
    "Using `(` and `)` gives fixed-sized parens."
   ]
  },
  {
   "cell_type": "markdown",
   "metadata": {},
   "source": [
    "### More examples\n",
    "\n",
    "Here are lots of fun examples of math symbols and constructions:\n",
    "\n",
    "* Common functions: $\\sin(x)$, $\\cos(t)$, $\\exp(z) = e^x$, \n",
    "$$ \\sin\\left(\\frac{k\\pi}{L} x\\right)$$\n",
    "\n",
    "* Group things using curly braces: $10^{2x}$, $$e^{1+4t^2}$$\n",
    "\n",
    "* Integrals are fun: $$\\int_a^{2b} f^\\prime(t) dt = f(2b) - f(a)$$\n",
    "and summations are fun, too:\n",
    "$$ \\sum_{k=1}^{100} \\frac{1}{k^2}$$\n",
    "\n",
    "* Vectors and matrices:\n",
    "$$\n",
    "\\begin{pmatrix} x \\\\ y \\end{pmatrix} \n",
    "=\n",
    "\\begin{pmatrix} a & b \\\\ c & d \\end{pmatrix}\n",
    "\\begin{pmatrix} P \\\\ Q \\end{pmatrix}\n",
    "$$\n",
    "\n",
    "* Greek letters: $\\sigma$, $\\omega$, $\\Omega$, $\\alpha$, $\\beta$, $\\phi$, $\\Phi$, $\\Psi$, $\\psi$, etc.\n",
    "\n",
    "* You can put text in equations also:\n",
    "$$\n",
    "\\frac{dP}{dt} = \\frac{ \\text{rate of change in $P$} }{ \\text{rate of change in $t$} }\n",
    "$$\n",
    "\n",
    "* You can put spaces as well\n",
    "$$\n",
    "\\frac{dQ}{dt} = 5Q,\n",
    "\\quad \n",
    "Q(0) = 100.\n",
    "$$"
   ]
  },
  {
   "cell_type": "markdown",
   "metadata": {},
   "source": []
  }
 ],
 "metadata": {
  "kernelspec": {
   "display_name": "SageMath 8.7",
   "language": "",
   "name": "sagemath"
  },
  "language_info": {
   "codemirror_mode": {
    "name": "ipython",
    "version": 2
   },
   "file_extension": ".py",
   "mimetype": "text/x-python",
   "name": "python",
   "nbconvert_exporter": "python",
   "pygments_lexer": "ipython2",
   "version": "2.7.15"
  }
 },
 "nbformat": 4,
 "nbformat_minor": 2
}
